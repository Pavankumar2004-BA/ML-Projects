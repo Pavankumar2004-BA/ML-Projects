{
 "cells": [
  {
   "cell_type": "code",
   "execution_count": 3,
   "metadata": {},
   "outputs": [],
   "source": [
    "import numpy as np\n",
    "import random\n",
    "import torch\n",
    "import os\n",
    "import spacy\n",
    "from torchtext.vocab import GloVe\n",
    "import torch.nn as nn\n",
    "import torch.nn.functional as F\n",
    "from torch.utils.data import DataLoader , SubsetRandomSampler\n",
    "from sklearn.metrics import classification_report, accuracy_score\n",
    "from tqdm import tqdm"
   ]
  },
  {
   "cell_type": "code",
   "execution_count": 3,
   "metadata": {},
   "outputs": [
    {
     "name": "stdout",
     "output_type": "stream",
     "text": [
      "\u001b[1m\u001b[37mWellsFargo              \u001b[m  Wed Sep 13 18:08:24 2023  \u001b[1m\u001b[30m525.125.06\u001b[m\n",
      "\u001b[36m[0]\u001b[m \u001b[34mNVIDIA A100-SXM4-40GB\u001b[m |\u001b[31m 35'C\u001b[m, \u001b[1m\u001b[32m100 %\u001b[m | \u001b[36m\u001b[1m\u001b[33m 3891\u001b[m / \u001b[33m40960\u001b[m MB | \u001b[1m\u001b[30majaymamidi\u001b[m(\u001b[33m3254M\u001b[m) \u001b[1m\u001b[30mgdm\u001b[m(\u001b[33m4M\u001b[m) \u001b[1m\u001b[30muser\u001b[m(\u001b[33m4M\u001b[m)\n",
      "\u001b[36m[1]\u001b[m \u001b[34mNVIDIA A100-SXM4-40GB\u001b[m |\u001b[31m 27'C\u001b[m, \u001b[32m  0 %\u001b[m | \u001b[36m\u001b[1m\u001b[33m 1213\u001b[m / \u001b[33m40960\u001b[m MB | \u001b[1m\u001b[30mgdm\u001b[m(\u001b[33m4M\u001b[m) \u001b[1m\u001b[30muser\u001b[m(\u001b[33m4M\u001b[m)\n",
      "\u001b[36m[2]\u001b[m \u001b[34mNVIDIA A100-SXM4-40GB\u001b[m |\u001b[31m 27'C\u001b[m, \u001b[32m  0 %\u001b[m | \u001b[36m\u001b[1m\u001b[33m31625\u001b[m / \u001b[33m40960\u001b[m MB | \u001b[1m\u001b[30mtonygracious\u001b[m(\u001b[33m11360M\u001b[m) \u001b[1m\u001b[30mmohitsoni\u001b[m(\u001b[33m19628M\u001b[m) \u001b[1m\u001b[30mgdm\u001b[m(\u001b[33m4M\u001b[m) \u001b[1m\u001b[30muser\u001b[m(\u001b[33m4M\u001b[m)\n",
      "\u001b[36m[3]\u001b[m \u001b[34mNVIDIA A100-SXM4-40GB\u001b[m |\u001b[31m 44'C\u001b[m, \u001b[1m\u001b[32m100 %\u001b[m | \u001b[36m\u001b[1m\u001b[33m38961\u001b[m / \u001b[33m40960\u001b[m MB | \u001b[1m\u001b[30mtonygracious\u001b[m(\u001b[33m37748M\u001b[m) \u001b[1m\u001b[30mgdm\u001b[m(\u001b[33m4M\u001b[m) \u001b[1m\u001b[30muser\u001b[m(\u001b[33m4M\u001b[m)\n",
      "\u001b[36m[4]\u001b[m \u001b[34mNVIDIA A100-SXM4-40GB\u001b[m |\u001b[31m 43'C\u001b[m, \u001b[1m\u001b[32m100 %\u001b[m | \u001b[36m\u001b[1m\u001b[33m 4163\u001b[m / \u001b[33m40960\u001b[m MB | \u001b[1m\u001b[30majaymamidi\u001b[m(\u001b[33m3446M\u001b[m) \u001b[1m\u001b[30mgdm\u001b[m(\u001b[33m4M\u001b[m) \u001b[1m\u001b[30muser\u001b[m(\u001b[33m4M\u001b[m)\n",
      "\u001b[36m[5]\u001b[m \u001b[34mNVIDIA A100-SXM4-40GB\u001b[m |\u001b[31m 27'C\u001b[m, \u001b[32m  0 %\u001b[m | \u001b[36m\u001b[1m\u001b[33m 1911\u001b[m / \u001b[33m40960\u001b[m MB | \u001b[1m\u001b[30mgdm\u001b[m(\u001b[33m4M\u001b[m) \u001b[1m\u001b[30muser\u001b[m(\u001b[33m4M\u001b[m)\n",
      "\u001b[36m[6]\u001b[m \u001b[34mNVIDIA A100-SXM4-40GB\u001b[m |\u001b[31m 35'C\u001b[m, \u001b[1m\u001b[32m100 %\u001b[m | \u001b[36m\u001b[1m\u001b[33m 7911\u001b[m / \u001b[33m40960\u001b[m MB | \u001b[1m\u001b[30majaymamidi\u001b[m(\u001b[33m3994M\u001b[m) \u001b[1m\u001b[30mtonygracious\u001b[m(\u001b[33m3280M\u001b[m) \u001b[1m\u001b[30mgdm\u001b[m(\u001b[33m4M\u001b[m) \u001b[1m\u001b[30muser\u001b[m(\u001b[33m4M\u001b[m)\n",
      "\u001b[36m[7]\u001b[m \u001b[34mNVIDIA A100-SXM4-40GB\u001b[m |\u001b[31m 33'C\u001b[m, \u001b[32m  0 %\u001b[m | \u001b[36m\u001b[1m\u001b[33m 1501\u001b[m / \u001b[33m40960\u001b[m MB | \u001b[1m\u001b[30mgdm\u001b[m(\u001b[33m4M\u001b[m) \u001b[1m\u001b[30muser\u001b[m(\u001b[33m4M\u001b[m)\n"
     ]
    }
   ],
   "source": [
    "!gpustat"
   ]
  },
  {
   "cell_type": "code",
   "execution_count": 4,
   "metadata": {},
   "outputs": [],
   "source": [
    "#Setting seed for entire notebook\n",
    "\n",
    "def setSeed(seed = 75):\n",
    "    np.random.seed(seed)\n",
    "    random.seed(seed)\n",
    "    torch.manual_seed(seed)\n",
    "    torch.cuda.manual_seed(seed)\n",
    "    torch.backends.cudnn.deterministic = True\n",
    "    torch.backends.cudnn.benchmark = True\n",
    "    os.environ[\"PYTHONHASHSEED\"]=str(seed)\n",
    "\n",
    "setSeed(75)"
   ]
  },
  {
   "cell_type": "code",
   "execution_count": 5,
   "metadata": {},
   "outputs": [],
   "source": [
    "#Data Preprocessing\n",
    "import io\n",
    "\n",
    "def getCorpus(train , test , valid):\n",
    "  Eng = []\n",
    "  Hindi= []\n",
    "\n",
    "  with io.open(train, encoding ='utf-8') as f:\n",
    "    for line in f:\n",
    "      if '\\t' not in line:\n",
    "        continue\n",
    "      tokens = line.rstrip().split(\"\\t\")\n",
    "      Eng.append(tokens[1])\n",
    "      Hindi.append(tokens[0])\n",
    "  with io.open(test, encoding ='utf-8') as f:\n",
    "    for line in f:\n",
    "      if '\\t' not in line:\n",
    "        continue\n",
    "      tokens = line.rstrip().split(\"\\t\")\n",
    "      Eng.append(tokens[1])\n",
    "      Hindi.append(tokens[0])\n",
    "  with io.open(valid, encoding ='utf-8') as f:\n",
    "    for line in f:\n",
    "      if '\\t' not in line:\n",
    "        continue\n",
    "      tokens = line.rstrip().split(\"\\t\")\n",
    "      Eng.append(tokens[1])\n",
    "      Hindi.append(tokens[0])\n",
    "  return Eng, Hindi\n",
    "train ='data/hin_train.tsv'\n",
    "test = 'data/hin_test.tsv'\n",
    "valid = 'data/hin_dev.tsv'\n",
    "\n",
    "Source , Target = getCorpus(train,test,valid)\n",
    "Source = Source[:51200]\n",
    "Target = Target[:51200]\n"
   ]
  },
  {
   "cell_type": "code",
   "execution_count": 6,
   "metadata": {},
   "outputs": [],
   "source": [
    "maxSrcLen = max([len(txt) for txt in Source])\n",
    "maxTgtLen = max([len(txt) for txt in Target])\n"
   ]
  },
  {
   "cell_type": "code",
   "execution_count": 7,
   "metadata": {},
   "outputs": [
    {
     "name": "stdout",
     "output_type": "stream",
     "text": [
      "Max Source Length : 20    Max Target Length : 19\n",
      "['antarrashtriye', 'antaratma', 'antratma', 'antral', 'antarashtriya', 'antarrashtriya', 'antrashtriya', 'antariksh', 'antriksh', 'antrikshyatri']\n",
      "['अंतरर्राष्ट्रीय', 'अंतरात्मा', 'अंतरात्मा', 'अंतराल', 'अंतराष्ट्रीय', 'अंतराष्ट्रीय', 'अंतराष्ट्रीय', 'अंतरिक्ष', 'अंतरिक्ष', 'अंतरिक्षयात्री']\n"
     ]
    }
   ],
   "source": [
    "print(f'Max Source Length : {maxSrcLen}    Max Target Length : {maxTgtLen}')\n",
    "print(Source[100:110])\n",
    "print(Target[100:110])"
   ]
  },
  {
   "cell_type": "code",
   "execution_count": 8,
   "metadata": {},
   "outputs": [],
   "source": [
    "#Finding Source Vocabulary , making index to every word in vocab\n",
    "Src_vocabulary = set()\n",
    "src_word_to_idx = {}\n",
    "idx=1\n",
    "for word in Source:\n",
    "    for i in word:\n",
    "        Src_vocabulary.add(i)\n",
    "        if i not in src_word_to_idx:\n",
    "            src_word_to_idx[i] = idx\n",
    "            idx=idx+1\n",
    "Src_vocabulary.add('unk')\n",
    "src_word_to_idx['unk'] = idx\n",
    "\n",
    "idx_to_src_word = {value: key for key, value in src_word_to_idx.items()}"
   ]
  },
  {
   "cell_type": "code",
   "execution_count": 9,
   "metadata": {},
   "outputs": [
    {
     "name": "stdout",
     "output_type": "stream",
     "text": [
      "27\n",
      "{'a': 1, 'n': 2, 'k': 3, 'g': 4, 'i': 5, 't': 6, 'u': 7, 'c': 8, 'l': 9, 'e': 10, 'r': 11, 's': 12, 'h': 13, 'd': 14, 'b': 15, 'y': 16, 'o': 17, 'j': 18, 'z': 19, 'm': 20, 'v': 21, 'w': 22, 'p': 23, 'f': 24, 'x': 25, 'q': 26, 'unk': 27}\n",
      "{1: 'a', 2: 'n', 3: 'k', 4: 'g', 5: 'i', 6: 't', 7: 'u', 8: 'c', 9: 'l', 10: 'e', 11: 'r', 12: 's', 13: 'h', 14: 'd', 15: 'b', 16: 'y', 17: 'o', 18: 'j', 19: 'z', 20: 'm', 21: 'v', 22: 'w', 23: 'p', 24: 'f', 25: 'x', 26: 'q', 27: 'unk'}\n"
     ]
    }
   ],
   "source": [
    "print(len(Src_vocabulary))\n",
    "print(src_word_to_idx)\n",
    "print(idx_to_src_word)"
   ]
  },
  {
   "cell_type": "code",
   "execution_count": 10,
   "metadata": {},
   "outputs": [],
   "source": [
    "#Finding Source Vocabulary , making index to every word in vocab\n",
    "Tgt_vocabulary = set()\n",
    "tgt_word_to_idx = {}\n",
    "idx=1\n",
    "for word in Target:\n",
    "    for i in word:\n",
    "        Tgt_vocabulary.add(i)\n",
    "        if i not in tgt_word_to_idx:\n",
    "            tgt_word_to_idx[i] = idx\n",
    "            idx=idx+1\n",
    "Tgt_vocabulary.add('unk')\n",
    "tgt_word_to_idx['unk'] = idx\n",
    "\n",
    "idx_to_tgt_word = {value: key for key, value in tgt_word_to_idx.items()}"
   ]
  },
  {
   "cell_type": "code",
   "execution_count": 11,
   "metadata": {},
   "outputs": [
    {
     "name": "stdout",
     "output_type": "stream",
     "text": [
      "64\n",
      "{'अ': 1, 'ं': 2, 'क': 3, 'ग': 4, 'ण': 5, 'ि': 6, 'त': 7, 'ल': 8, 'ु': 9, 'र': 10, 'श': 11, 'द': 12, 'न': 13, 'े': 14, 'भ': 15, '्': 16, 'ष': 17, 'ा': 18, 'ी': 19, 'ठ': 20, 'य': 21, 'ो': 22, 'ू': 23, 'ज': 24, 'च': 25, 'म': 26, 'ट': 27, 'ड': 28, 'व': 29, 'ः': 30, 'ह': 31, 'प': 32, 'ृ': 33, 'स': 34, 'ध': 35, 'ै': 36, '़': 37, 'ब': 38, 'उ': 39, 'ॉ': 40, 'ई': 41, 'ख': 42, 'घ': 43, 'छ': 44, 'ञ': 45, 'फ': 46, 'ओ': 47, 'थ': 48, 'ढ': 49, 'झ': 50, 'ौ': 51, 'आ': 52, 'इ': 53, 'ँ': 54, 'ए': 55, 'ऊ': 56, 'ॅ': 57, 'ऋ': 58, 'ऑ': 59, 'ऐ': 60, 'औ': 61, 'ङ': 62, 'ॐ': 63, 'unk': 64}\n",
      "{1: 'अ', 2: 'ं', 3: 'क', 4: 'ग', 5: 'ण', 6: 'ि', 7: 'त', 8: 'ल', 9: 'ु', 10: 'र', 11: 'श', 12: 'द', 13: 'न', 14: 'े', 15: 'भ', 16: '्', 17: 'ष', 18: 'ा', 19: 'ी', 20: 'ठ', 21: 'य', 22: 'ो', 23: 'ू', 24: 'ज', 25: 'च', 26: 'म', 27: 'ट', 28: 'ड', 29: 'व', 30: 'ः', 31: 'ह', 32: 'प', 33: 'ृ', 34: 'स', 35: 'ध', 36: 'ै', 37: '़', 38: 'ब', 39: 'उ', 40: 'ॉ', 41: 'ई', 42: 'ख', 43: 'घ', 44: 'छ', 45: 'ञ', 46: 'फ', 47: 'ओ', 48: 'थ', 49: 'ढ', 50: 'झ', 51: 'ौ', 52: 'आ', 53: 'इ', 54: 'ँ', 55: 'ए', 56: 'ऊ', 57: 'ॅ', 58: 'ऋ', 59: 'ऑ', 60: 'ऐ', 61: 'औ', 62: 'ङ', 63: 'ॐ', 64: 'unk'}\n"
     ]
    }
   ],
   "source": [
    "print(len(Tgt_vocabulary))\n",
    "print(tgt_word_to_idx)\n",
    "print(idx_to_tgt_word)"
   ]
  },
  {
   "cell_type": "code",
   "execution_count": 12,
   "metadata": {},
   "outputs": [],
   "source": [
    "#Modifying src with index values\n",
    "dataset_corpus = []\n",
    "for i in range(len(Source)):\n",
    "    src_ids =[src_word_to_idx[let] for let in Source[i]]\n",
    "    tgt_ids =[tgt_word_to_idx[let] for let in Target[i]]\n",
    "    while(len(tgt_ids)<19):\n",
    "        tgt_ids.append(0)\n",
    "    dataset_corpus.append((src_ids , tgt_ids))"
   ]
  },
  {
   "cell_type": "code",
   "execution_count": 13,
   "metadata": {},
   "outputs": [
    {
     "name": "stdout",
     "output_type": "stream",
     "text": [
      "([1, 4, 1, 2, 14, 13], [1, 2, 4, 12, 0, 0, 0, 0, 0, 0, 0, 0, 0, 0, 0, 0, 0, 0, 0])\n"
     ]
    }
   ],
   "source": [
    "print(dataset_corpus[10])"
   ]
  },
  {
   "cell_type": "code",
   "execution_count": 14,
   "metadata": {},
   "outputs": [],
   "source": [
    "#Downloading GloVe and assigning vectors to words\n",
    "glove_vectors = GloVe(name='840B',dim=300)\n",
    "\n",
    "embeddings = torch.zeros(len(src_word_to_idx)+1,300)\n",
    "for word , id in src_word_to_idx.items():\n",
    "    embeddings[id] = glove_vectors[word]"
   ]
  },
  {
   "cell_type": "code",
   "execution_count": 15,
   "metadata": {},
   "outputs": [],
   "source": [
    "# Train-Valid split of 80-20\n",
    "def split(n, ratio):\n",
    "    n_val = int(ratio * n)\n",
    "    idxs = np.random.permutation(n)\n",
    "    return idxs[n_val:], idxs[:n_val]\n",
    "\n",
    "train_indices, val_indices = split(len(dataset_corpus), 0.2)"
   ]
  },
  {
   "cell_type": "code",
   "execution_count": null,
   "metadata": {},
   "outputs": [],
   "source": []
  },
  {
   "cell_type": "code",
   "execution_count": 16,
   "metadata": {},
   "outputs": [],
   "source": [
    "from torch.nn.utils.rnn import pad_sequence\n",
    "\n",
    "# ----------- Batching the data -----------\n",
    "def collate_fn(instn):\n",
    "    src = [torch.Tensor(x[0]) for x in instn]\n",
    "    tgt = torch.Tensor([x[1] for x in instn])\n",
    "\n",
    "    padded_sent = pad_sequence(src, batch_first=True, padding_value=0)\n",
    "\n",
    "    target = torch.cat((tgt[:, 0], tgt[:, 1],tgt[:, 2],tgt[:, 3],tgt[:, 4],tgt[:, 5],tgt[:, 6],tgt[:, 7],tgt[:, 8],tgt[:, 9],tgt[:, 10],tgt[:, 11],tgt[:, 12],tgt[:, 13],tgt[:, 14],tgt[:, 15],tgt[:, 16],tgt[:, 17],tgt[:, 18]), dim = 0)\n",
    "\n",
    "    return (padded_sent.long(), target.long())\n",
    "\n",
    "\n",
    "batch_size = 64\n",
    "\n",
    "train_sampler   = SubsetRandomSampler(train_indices)\n",
    "train_loader    = DataLoader(dataset_corpus, batch_size, sampler=train_sampler, collate_fn=collate_fn)\n",
    "\n",
    "val_sampler     = SubsetRandomSampler(val_indices)\n",
    "val_loader      = DataLoader(dataset_corpus, batch_size, sampler=val_sampler, collate_fn=collate_fn)"
   ]
  },
  {
   "cell_type": "code",
   "execution_count": 17,
   "metadata": {},
   "outputs": [],
   "source": [
    "if torch.cuda.is_available():\n",
    "    device = torch.device(\"cuda:7\")"
   ]
  },
  {
   "cell_type": "code",
   "execution_count": 18,
   "metadata": {},
   "outputs": [],
   "source": [
    "#Encoder\n",
    "\n",
    "class Encoder(nn.Module):\n",
    "    def __init__(self,embeddings):\n",
    "        super(Encoder , self).__init__()\n",
    "        self.embeddings = nn.Embedding.from_pretrained(embeddings,padding_idx=0,freeze=False)\n",
    "        self.dropout = nn.Dropout(0.2)\n",
    "        self.gru = nn.GRU(input_size=300, hidden_size=128,num_layers=1, batch_first = True, bidirectional = True)\n",
    "\n",
    "    def forward(self,src):\n",
    "        x = self.embeddings(src)\n",
    "        x = self.dropout(x)\n",
    "        hidden , out = self.gru(x)\n",
    "        return hidden"
   ]
  },
  {
   "cell_type": "code",
   "execution_count": 48,
   "metadata": {},
   "outputs": [],
   "source": [
    "#Decoder\n",
    "class Decoder(nn.Module):\n",
    "    def __init__(self):\n",
    "        super(Decoder,self).__init__()\n",
    "        self.gru = nn.GRUCell(input_size=320 , hidden_size=128)\n",
    "        self.lin1 = nn.Linear(128,64)\n",
    "        self.lin2 = nn.Linear(64,64)\n",
    "    \n",
    "    def forward(self, c , st , yt):\n",
    "        input = torch.cat((yt,c) , dim = 1)\n",
    "        st = st[:,0,:].squeeze(dim=1)\n",
    "        s = self.gru(input, st)\n",
    "        x = self.lin2(F.relu(self.lin1(s)))\n",
    "        return x , s\n"
   ]
  },
  {
   "cell_type": "code",
   "execution_count": 19,
   "metadata": {},
   "outputs": [],
   "source": [
    "#Decoder\n",
    "class Decoder(nn.Module):\n",
    "    def __init__(self):\n",
    "        super(Decoder,self).__init__()\n",
    "        self.gru = nn.GRUCell(input_size=320 , hidden_size=128)\n",
    "        self.lin1 = nn.Linear(128,64)\n",
    "        self.lin2 = nn.Linear(64,64)\n",
    "    \n",
    "    def forward(self, c , st , yt):\n",
    "        input = torch.cat((yt,c) , dim = 1)\n",
    "        st = st[:,0,:].squeeze(dim=1)\n",
    "        s = self.gru(input, st)\n",
    "        x = self.lin2(F.relu(self.lin1(s)))\n",
    "        return x , s\n"
   ]
  },
  {
   "cell_type": "code",
   "execution_count": 20,
   "metadata": {},
   "outputs": [],
   "source": [
    "#Transalator\n",
    "\n",
    "class Translator(nn.Module):\n",
    "    def __init__(self,embeddings):\n",
    "        super(Translator , self).__init__()\n",
    "        self.encoder = Encoder(embeddings)\n",
    "        self.initial_hidden = nn.Linear(256,128)\n",
    "        self.attention = nn.Linear(384,1)\n",
    "        self.decoder = Decoder()\n",
    "    \n",
    "    def forward(self, src):\n",
    "        #Batch Size , Sequence Length\n",
    "        B , len_seq = src.shape[0] , src.shape[1]\n",
    "        # Hidden Vectors\n",
    "        H = self.encoder(src)\n",
    "        st = self.initial_hidden(H)\n",
    "\n",
    "        logits = torch.zeros(B , 64).to(device)\n",
    "        for i in range(19):\n",
    "            Hs = torch.cat((H,st) , dim = 2)\n",
    "\n",
    "            #Attention \n",
    "            a = torch.softmax(self.attention(Hs).squeeze() , dim=1)\n",
    "\n",
    "            #Context\n",
    "            c = torch.bmm(a.unsqueeze(dim=1) , H).squeeze(dim=1)\n",
    "\n",
    "            yt , st = self.decoder(c , st , logits[B*i : B*(i+1)])\n",
    "            logits = torch.cat((logits , yt),dim=0)\n",
    "            st = st.unsqueeze(dim=1)\n",
    "            st = st.repeat(1,len_seq , 1)\n",
    "        \n",
    "        return logits[B:]\n",
    "\n"
   ]
  },
  {
   "cell_type": "code",
   "execution_count": 21,
   "metadata": {},
   "outputs": [],
   "source": [
    "model = Translator(embeddings)\n",
    "model.to(device)\n",
    "optimizer = torch.optim.Adam(model.parameters() , lr = 1e-3)\n",
    "loss_function = F.cross_entropy"
   ]
  },
  {
   "cell_type": "code",
   "execution_count": 22,
   "metadata": {},
   "outputs": [],
   "source": [
    "def exact_match(y_pred , tgt):\n",
    "    B = tgt.shape[0] // 19\n",
    "    correct =0\n",
    "    for i in range(B):\n",
    "        f =True\n",
    "        for j in range(19):\n",
    "            if(tgt[i+(j*B)] != y_pred[i+(j*B)]):\n",
    "                f=False\n",
    "                break\n",
    "        if(f):\n",
    "            correct +=1\n",
    "    return correct , B"
   ]
  },
  {
   "cell_type": "code",
   "execution_count": 31,
   "metadata": {},
   "outputs": [
    {
     "name": "stderr",
     "output_type": "stream",
     "text": [
      "100%|██████████| 640/640 [00:23<00:00, 26.84it/s]\n"
     ]
    },
    {
     "name": "stdout",
     "output_type": "stream",
     "text": [
      "Epoch : 1 Training Loss : 0.2891474076313898 Train Accuracy : 90.35721628289474 Train Exact-Match 27.150878906249996\n"
     ]
    },
    {
     "name": "stderr",
     "output_type": "stream",
     "text": [
      "100%|██████████| 160/160 [00:03<00:00, 43.61it/s]\n"
     ]
    },
    {
     "name": "stdout",
     "output_type": "stream",
     "text": [
      "Validation Loss : 0.35275158286094666 Validation Accuracy : 88.5485 Validation Exact-Match 22.1875\n"
     ]
    },
    {
     "name": "stderr",
     "output_type": "stream",
     "text": [
      "100%|██████████| 640/640 [00:24<00:00, 26.26it/s]\n"
     ]
    },
    {
     "name": "stdout",
     "output_type": "stream",
     "text": [
      "Epoch : 2 Training Loss : 0.2890393324429169 Train Accuracy : 90.3759765625 Train Exact-Match 27.30712890625\n"
     ]
    },
    {
     "name": "stderr",
     "output_type": "stream",
     "text": [
      "100%|██████████| 160/160 [00:03<00:00, 42.60it/s]\n"
     ]
    },
    {
     "name": "stdout",
     "output_type": "stream",
     "text": [
      "Validation Loss : 0.3524586260318756 Validation Accuracy : 88.5398 Validation Exact-Match 22.002\n"
     ]
    },
    {
     "name": "stderr",
     "output_type": "stream",
     "text": [
      "100%|██████████| 640/640 [00:24<00:00, 26.64it/s]\n"
     ]
    },
    {
     "name": "stdout",
     "output_type": "stream",
     "text": [
      "Epoch : 3 Training Loss : 0.28935874968301506 Train Accuracy : 90.37045127467105 Train Exact-Match 27.097167968750004\n"
     ]
    },
    {
     "name": "stderr",
     "output_type": "stream",
     "text": [
      "100%|██████████| 160/160 [00:03<00:00, 44.40it/s]\n"
     ]
    },
    {
     "name": "stdout",
     "output_type": "stream",
     "text": [
      "Validation Loss : 0.35263699293136597 Validation Accuracy : 88.5485 Validation Exact-Match 22.3438\n"
     ]
    },
    {
     "name": "stderr",
     "output_type": "stream",
     "text": [
      "100%|██████████| 640/640 [00:24<00:00, 26.45it/s]\n"
     ]
    },
    {
     "name": "stdout",
     "output_type": "stream",
     "text": [
      "Epoch : 4 Training Loss : 0.28901881920173766 Train Accuracy : 90.38766961348685 Train Exact-Match 27.309570312499996\n"
     ]
    },
    {
     "name": "stderr",
     "output_type": "stream",
     "text": [
      "100%|██████████| 160/160 [00:03<00:00, 48.90it/s]\n"
     ]
    },
    {
     "name": "stdout",
     "output_type": "stream",
     "text": [
      "Validation Loss : 0.3520455062389374 Validation Accuracy : 88.6051 Validation Exact-Match 22.4121\n"
     ]
    },
    {
     "name": "stderr",
     "output_type": "stream",
     "text": [
      "100%|██████████| 640/640 [00:23<00:00, 26.80it/s]\n"
     ]
    },
    {
     "name": "stdout",
     "output_type": "stream",
     "text": [
      "Epoch : 5 Training Loss : 0.28934171409346165 Train Accuracy : 90.38227282072368 Train Exact-Match 27.268066406250004\n"
     ]
    },
    {
     "name": "stderr",
     "output_type": "stream",
     "text": [
      "100%|██████████| 160/160 [00:03<00:00, 48.01it/s]\n"
     ]
    },
    {
     "name": "stdout",
     "output_type": "stream",
     "text": [
      "Validation Loss : 0.3524109721183777 Validation Accuracy : 88.5295 Validation Exact-Match 22.2363\n"
     ]
    },
    {
     "name": "stderr",
     "output_type": "stream",
     "text": [
      "100%|██████████| 640/640 [00:24<00:00, 26.28it/s]\n"
     ]
    },
    {
     "name": "stdout",
     "output_type": "stream",
     "text": [
      "Epoch : 6 Training Loss : 0.28942825375124814 Train Accuracy : 90.37404913651315 Train Exact-Match 27.18017578125\n"
     ]
    },
    {
     "name": "stderr",
     "output_type": "stream",
     "text": [
      "100%|██████████| 160/160 [00:03<00:00, 49.11it/s]\n"
     ]
    },
    {
     "name": "stdout",
     "output_type": "stream",
     "text": [
      "Validation Loss : 0.3529570996761322 Validation Accuracy : 88.529 Validation Exact-Match 22.3145\n"
     ]
    },
    {
     "name": "stderr",
     "output_type": "stream",
     "text": [
      "100%|██████████| 640/640 [00:24<00:00, 26.32it/s]\n"
     ]
    },
    {
     "name": "stdout",
     "output_type": "stream",
     "text": [
      "Epoch : 7 Training Loss : 0.28911442230455575 Train Accuracy : 90.37353515625 Train Exact-Match 27.31201171875\n"
     ]
    },
    {
     "name": "stderr",
     "output_type": "stream",
     "text": [
      "100%|██████████| 160/160 [00:03<00:00, 48.21it/s]\n"
     ]
    },
    {
     "name": "stdout",
     "output_type": "stream",
     "text": [
      "Validation Loss : 0.3528977632522583 Validation Accuracy : 88.5274 Validation Exact-Match 22.1973\n"
     ]
    },
    {
     "name": "stderr",
     "output_type": "stream",
     "text": [
      "100%|██████████| 640/640 [00:23<00:00, 27.05it/s]\n"
     ]
    },
    {
     "name": "stdout",
     "output_type": "stream",
     "text": [
      "Epoch : 8 Training Loss : 0.2894115099450573 Train Accuracy : 90.36222759046053 Train Exact-Match 27.26318359375\n"
     ]
    },
    {
     "name": "stderr",
     "output_type": "stream",
     "text": [
      "100%|██████████| 160/160 [00:03<00:00, 49.12it/s]\n"
     ]
    },
    {
     "name": "stdout",
     "output_type": "stream",
     "text": [
      "Validation Loss : 0.35226908326148987 Validation Accuracy : 88.5424 Validation Exact-Match 22.3535\n"
     ]
    },
    {
     "name": "stderr",
     "output_type": "stream",
     "text": [
      "100%|██████████| 640/640 [00:24<00:00, 26.38it/s]\n"
     ]
    },
    {
     "name": "stdout",
     "output_type": "stream",
     "text": [
      "Epoch : 9 Training Loss : 0.2891807090025395 Train Accuracy : 90.37327816611842 Train Exact-Match 27.170410156250004\n"
     ]
    },
    {
     "name": "stderr",
     "output_type": "stream",
     "text": [
      "100%|██████████| 160/160 [00:03<00:00, 48.34it/s]\n"
     ]
    },
    {
     "name": "stdout",
     "output_type": "stream",
     "text": [
      "Validation Loss : 0.3528629243373871 Validation Accuracy : 88.5177 Validation Exact-Match 22.3926\n"
     ]
    },
    {
     "name": "stderr",
     "output_type": "stream",
     "text": [
      "100%|██████████| 640/640 [00:24<00:00, 26.13it/s]\n"
     ]
    },
    {
     "name": "stdout",
     "output_type": "stream",
     "text": [
      "Epoch : 10 Training Loss : 0.28896843891125173 Train Accuracy : 90.36325555098685 Train Exact-Match 27.04345703125\n"
     ]
    },
    {
     "name": "stderr",
     "output_type": "stream",
     "text": [
      "100%|██████████| 160/160 [00:03<00:00, 47.18it/s]\n"
     ]
    },
    {
     "name": "stdout",
     "output_type": "stream",
     "text": [
      "Validation Loss : 0.3523918688297272 Validation Accuracy : 88.5788 Validation Exact-Match 22.3633\n"
     ]
    },
    {
     "name": "stderr",
     "output_type": "stream",
     "text": [
      "100%|██████████| 640/640 [00:23<00:00, 27.01it/s]\n"
     ]
    },
    {
     "name": "stdout",
     "output_type": "stream",
     "text": [
      "Epoch : 11 Training Loss : 0.2892217412823811 Train Accuracy : 90.36826685855263 Train Exact-Match 27.2021484375\n"
     ]
    },
    {
     "name": "stderr",
     "output_type": "stream",
     "text": [
      "100%|██████████| 160/160 [00:03<00:00, 43.48it/s]\n"
     ]
    },
    {
     "name": "stdout",
     "output_type": "stream",
     "text": [
      "Validation Loss : 0.3524872064590454 Validation Accuracy : 88.5131 Validation Exact-Match 22.1582\n"
     ]
    },
    {
     "name": "stderr",
     "output_type": "stream",
     "text": [
      "100%|██████████| 640/640 [00:24<00:00, 26.50it/s]\n"
     ]
    },
    {
     "name": "stdout",
     "output_type": "stream",
     "text": [
      "Epoch : 12 Training Loss : 0.28942921487614515 Train Accuracy : 90.38034539473684 Train Exact-Match 27.16064453125\n"
     ]
    },
    {
     "name": "stderr",
     "output_type": "stream",
     "text": [
      "100%|██████████| 160/160 [00:03<00:00, 49.02it/s]\n"
     ]
    },
    {
     "name": "stdout",
     "output_type": "stream",
     "text": [
      "Validation Loss : 0.35196003317832947 Validation Accuracy : 88.5557 Validation Exact-Match 22.1582\n"
     ]
    },
    {
     "name": "stderr",
     "output_type": "stream",
     "text": [
      "100%|██████████| 640/640 [00:23<00:00, 27.00it/s]\n"
     ]
    },
    {
     "name": "stdout",
     "output_type": "stream",
     "text": [
      "Epoch : 13 Training Loss : 0.2890555897029117 Train Accuracy : 90.3736636513158 Train Exact-Match 27.109375000000004\n"
     ]
    },
    {
     "name": "stderr",
     "output_type": "stream",
     "text": [
      "100%|██████████| 160/160 [00:03<00:00, 51.53it/s]\n"
     ]
    },
    {
     "name": "stdout",
     "output_type": "stream",
     "text": [
      "Validation Loss : 0.35237282514572144 Validation Accuracy : 88.5244 Validation Exact-Match 21.9824\n"
     ]
    },
    {
     "name": "stderr",
     "output_type": "stream",
     "text": [
      "100%|██████████| 640/640 [00:22<00:00, 28.24it/s]\n"
     ]
    },
    {
     "name": "stdout",
     "output_type": "stream",
     "text": [
      "Epoch : 14 Training Loss : 0.28954256160650405 Train Accuracy : 90.33781352796053 Train Exact-Match 26.955566406249996\n"
     ]
    },
    {
     "name": "stderr",
     "output_type": "stream",
     "text": [
      "100%|██████████| 160/160 [00:02<00:00, 53.85it/s]\n"
     ]
    },
    {
     "name": "stdout",
     "output_type": "stream",
     "text": [
      "Validation Loss : 0.35204485058784485 Validation Accuracy : 88.5866 Validation Exact-Match 22.5391\n"
     ]
    },
    {
     "name": "stderr",
     "output_type": "stream",
     "text": [
      "100%|██████████| 640/640 [00:21<00:00, 29.77it/s]\n"
     ]
    },
    {
     "name": "stdout",
     "output_type": "stream",
     "text": [
      "Epoch : 15 Training Loss : 0.28913376226555554 Train Accuracy : 90.37135074013159 Train Exact-Match 27.16796875\n"
     ]
    },
    {
     "name": "stderr",
     "output_type": "stream",
     "text": [
      "100%|██████████| 160/160 [00:03<00:00, 52.90it/s]\n"
     ]
    },
    {
     "name": "stdout",
     "output_type": "stream",
     "text": [
      "Validation Loss : 0.3528638780117035 Validation Accuracy : 88.5213 Validation Exact-Match 22.2461\n"
     ]
    },
    {
     "name": "stderr",
     "output_type": "stream",
     "text": [
      "100%|██████████| 640/640 [00:21<00:00, 29.43it/s]\n"
     ]
    },
    {
     "name": "stdout",
     "output_type": "stream",
     "text": [
      "Epoch : 16 Training Loss : 0.28948484966531396 Train Accuracy : 90.37135074013159 Train Exact-Match 27.23876953125\n"
     ]
    },
    {
     "name": "stderr",
     "output_type": "stream",
     "text": [
      "100%|██████████| 160/160 [00:03<00:00, 50.95it/s]\n"
     ]
    },
    {
     "name": "stdout",
     "output_type": "stream",
     "text": [
      "Validation Loss : 0.3528291881084442 Validation Accuracy : 88.5007 Validation Exact-Match 22.3242\n"
     ]
    },
    {
     "name": "stderr",
     "output_type": "stream",
     "text": [
      "100%|██████████| 640/640 [00:27<00:00, 23.47it/s]\n"
     ]
    },
    {
     "name": "stdout",
     "output_type": "stream",
     "text": [
      "Epoch : 17 Training Loss : 0.28920890744775535 Train Accuracy : 90.3614566200658 Train Exact-Match 27.16796875\n"
     ]
    },
    {
     "name": "stderr",
     "output_type": "stream",
     "text": [
      "100%|██████████| 160/160 [00:03<00:00, 48.70it/s]\n"
     ]
    },
    {
     "name": "stdout",
     "output_type": "stream",
     "text": [
      "Validation Loss : 0.35294240713119507 Validation Accuracy : 88.5531 Validation Exact-Match 22.2852\n"
     ]
    },
    {
     "name": "stderr",
     "output_type": "stream",
     "text": [
      "100%|██████████| 640/640 [00:23<00:00, 26.86it/s]\n"
     ]
    },
    {
     "name": "stdout",
     "output_type": "stream",
     "text": [
      "Epoch : 18 Training Loss : 0.28929538261145354 Train Accuracy : 90.36608244243422 Train Exact-Match 27.15576171875\n"
     ]
    },
    {
     "name": "stderr",
     "output_type": "stream",
     "text": [
      "100%|██████████| 160/160 [00:03<00:00, 50.10it/s]\n"
     ]
    },
    {
     "name": "stdout",
     "output_type": "stream",
     "text": [
      "Validation Loss : 0.3526979982852936 Validation Accuracy : 88.5619 Validation Exact-Match 22.2852\n"
     ]
    },
    {
     "name": "stderr",
     "output_type": "stream",
     "text": [
      "100%|██████████| 640/640 [00:23<00:00, 26.92it/s]\n"
     ]
    },
    {
     "name": "stdout",
     "output_type": "stream",
     "text": [
      "Epoch : 19 Training Loss : 0.2892000986728817 Train Accuracy : 90.36968030427632 Train Exact-Match 27.18017578125\n"
     ]
    },
    {
     "name": "stderr",
     "output_type": "stream",
     "text": [
      "100%|██████████| 160/160 [00:03<00:00, 42.59it/s]\n"
     ]
    },
    {
     "name": "stdout",
     "output_type": "stream",
     "text": [
      "Validation Loss : 0.35271385312080383 Validation Accuracy : 88.5002 Validation Exact-Match 21.875\n"
     ]
    },
    {
     "name": "stderr",
     "output_type": "stream",
     "text": [
      "100%|██████████| 640/640 [00:23<00:00, 27.35it/s]\n"
     ]
    },
    {
     "name": "stdout",
     "output_type": "stream",
     "text": [
      "Epoch : 20 Training Loss : 0.2890837023733184 Train Accuracy : 90.35952919407895 Train Exact-Match 27.248535156249996\n"
     ]
    },
    {
     "name": "stderr",
     "output_type": "stream",
     "text": [
      "100%|██████████| 160/160 [00:03<00:00, 49.49it/s]"
     ]
    },
    {
     "name": "stdout",
     "output_type": "stream",
     "text": [
      "Validation Loss : 0.352411687374115 Validation Accuracy : 88.5598 Validation Exact-Match 22.2559\n",
      "\n",
      "Training Completed\n",
      "\n",
      " Best Epoch : 14 Valid Loss : 0.35204485058784485 Accuracy : 88.5866 Exact-Match : 22.5391\n"
     ]
    },
    {
     "name": "stderr",
     "output_type": "stream",
     "text": [
      "\n"
     ]
    }
   ],
   "source": [
    "num_epochs = 20\n",
    "best_val_loss = 100\n",
    "best_accuracy =0\n",
    "best_accuracy_em =0\n",
    "for epoch in range(1,num_epochs+1):\n",
    "    epoch_loss =0\n",
    "    model.train()\n",
    "    train_labels = []\n",
    "    train_pred =[]\n",
    "    correct_train , B_train =0 ,0\n",
    "    #Training\n",
    "    for src, tgt in tqdm(train_loader):\n",
    "        optimizer.zero_grad()\n",
    "        src = src.to(device)\n",
    "        tgt = tgt.to(device)\n",
    "\n",
    "        y_pred = model(src)\n",
    "        loss = loss_function(y_pred , tgt)\n",
    "\n",
    "        loss.backward()\n",
    "        optimizer.step()\n",
    "        epoch_loss += float(loss)\n",
    "\n",
    "        y_pred = torch.softmax(y_pred , dim=1).argmax(dim=1)\n",
    "\n",
    "        correct , B = exact_match(y_pred , tgt)\n",
    "        correct_train +=correct\n",
    "        B_train +=B\n",
    "\n",
    "        train_labels.extend(tgt.cpu().detach().numpy())\n",
    "        train_pred.extend(y_pred.cpu().detach().numpy())\n",
    "\n",
    "    print(f'Epoch : {epoch} Training Loss : {epoch_loss/len(train_loader)} Train Accuracy : {accuracy_score(train_labels ,train_pred)*100} Train Exact-Match { (correct_train/B_train)*100}')\n",
    "    # Validating\n",
    "    valid_loss=0\n",
    "    valid_labels = []\n",
    "    valid_pred =[]\n",
    "    correct_valid , B_valid = 0 , 0\n",
    "    for src , tgt in tqdm(val_loader):\n",
    "        src = src.to(device)\n",
    "        tgt = tgt.to(device)\n",
    "        \n",
    "\n",
    "\n",
    "        y_pred = model(src)\n",
    "        loss = loss_function(y_pred,tgt)\n",
    "        valid_loss += loss\n",
    "\n",
    "        y_pred = torch.softmax(y_pred , dim=1).argmax(dim=1)\n",
    "\n",
    "        correct , B = exact_match(y_pred , tgt)\n",
    "        correct_valid +=correct\n",
    "        B_valid +=B\n",
    "\n",
    "        valid_labels.extend(tgt.cpu().detach().numpy())\n",
    "        valid_pred.extend(y_pred.cpu().detach().numpy())\n",
    "    valid_loss = valid_loss/len(val_loader)\n",
    "    accuracy = round(accuracy_score(valid_labels ,valid_pred)*100,4)\n",
    "    accuracy_em = round((correct_valid/B_valid)*100 , 4)\n",
    "    print(f'Validation Loss : {valid_loss} Validation Accuracy : {accuracy} Validation Exact-Match {accuracy_em}')\n",
    "    if(accuracy_em > best_accuracy_em):\n",
    "        i=epoch\n",
    "        best_val_loss = valid_loss\n",
    "        best_accuracy = accuracy\n",
    "        best_accuracy_em = accuracy_em\n",
    "        torch.save(model.state_dict() , \"Transliteration Best Model.pt\")\n",
    "\n",
    "print(\"\\nTraining Completed\")\n",
    "\n",
    "print(f\"\\n Best Epoch : {i} Valid Loss : {best_val_loss} Accuracy : {best_accuracy} Exact-Match : {best_accuracy_em}\")\n",
    "\n",
    "\n",
    "\n",
    "\n",
    "        "
   ]
  },
  {
   "cell_type": "code",
   "execution_count": 32,
   "metadata": {},
   "outputs": [],
   "source": [
    "def SrcString(src_string):\n",
    "    out =\"\"\n",
    "    for i in src_string:\n",
    "        try:\n",
    "            out = out + idx_to_src_word[i]\n",
    "        except:\n",
    "            out = out\n",
    "    return out[:-1]\n",
    "        \n",
    "def TrgString(target):\n",
    "    out=\"\"\n",
    "    for i in target:\n",
    "        if i == 0:\n",
    "            continue\n",
    "        else :\n",
    "            out = out + idx_to_tgt_word[i]\n",
    "    return out\n",
    "def Ouput(tgt , y_pred ,src_string, idx , B):\n",
    "    src_string = src_string.cpu().detach().numpy()\n",
    "    src_string = SrcString(src_string)\n",
    "    target = [tgt[idx+(j*B)].item() for j in range(19)]\n",
    "    target = TrgString(target)\n",
    "    pred = [y_pred[idx+(j*B)].item() for j in range(19)]\n",
    "    pred = TrgString(pred)\n",
    "    return src_string,target , pred\n"
   ]
  },
  {
   "cell_type": "code",
   "execution_count": 39,
   "metadata": {},
   "outputs": [],
   "source": [
    "def exactmatch_ouputmatch(y_pred,tgt,src, file):\n",
    "    B = tgt.shape[0] // 19\n",
    "    correct =0\n",
    "    for i in range(B):\n",
    "        f =True\n",
    "        for j in range(19):\n",
    "            if(tgt[i+(j*B)] != y_pred[i+(j*B)]):\n",
    "                src_word, target , pred = Ouput(tgt,y_pred,src[i],i,B)\n",
    "                file.write(\"\\n\"+ src_word + \" : \" +target +\" : \"+pred)\n",
    "                f=False\n",
    "                break\n",
    "        if(f):\n",
    "            correct +=1\n",
    "    output_correct = [0 for i in range(19)]\n",
    "    for i in range(B):\n",
    "        for j in range(19):\n",
    "            if tgt[i+(j*B)] == y_pred[i+(j*B)]:\n",
    "                output_correct[j] += 1\n",
    "    return correct, B, output_correct"
   ]
  },
  {
   "cell_type": "code",
   "execution_count": 40,
   "metadata": {},
   "outputs": [],
   "source": [
    "def ShowOutput(y_pred,tgt,src, file):\n",
    "    B = tgt.shape[0] // 19\n",
    "    correct =0\n",
    "    for i in range(B):\n",
    "        src_word, target , pred = Ouput(tgt,y_pred,src[i],i,B)\n",
    "        print(f'Target : {target}  Predicted : {pred}')\n",
    "        file.write(\"\\n\"+ \" : \" +target +\" : \"+pred )"
   ]
  },
  {
   "cell_type": "code",
   "execution_count": 41,
   "metadata": {},
   "outputs": [
    {
     "data": {
      "text/plain": [
       "Translator(\n",
       "  (encoder): Encoder(\n",
       "    (embeddings): Embedding(28, 300, padding_idx=0)\n",
       "    (dropout): Dropout(p=0.2, inplace=False)\n",
       "    (gru): GRU(300, 128, batch_first=True, bidirectional=True)\n",
       "  )\n",
       "  (initial_hidden): Linear(in_features=256, out_features=128, bias=True)\n",
       "  (attention): Linear(in_features=384, out_features=1, bias=True)\n",
       "  (decoder): Decoder(\n",
       "    (gru): GRUCell(320, 128)\n",
       "    (lin1): Linear(in_features=128, out_features=64, bias=True)\n",
       "    (lin2): Linear(in_features=64, out_features=64, bias=True)\n",
       "  )\n",
       ")"
      ]
     },
     "execution_count": 41,
     "metadata": {},
     "output_type": "execute_result"
    }
   ],
   "source": [
    "model = Translator(embeddings)\n",
    "model.to(device)\n",
    "model.load_state_dict(torch.load(\"/data5/home/bhargavav2/DLNLP/Assignment2/PartA/Transliteration Best Model.pt\"))\n",
    "model.eval()"
   ]
  },
  {
   "cell_type": "code",
   "execution_count": 43,
   "metadata": {},
   "outputs": [
    {
     "name": "stderr",
     "output_type": "stream",
     "text": [
      "100%|██████████| 160/160 [00:13<00:00, 11.85it/s]"
     ]
    },
    {
     "name": "stdout",
     "output_type": "stream",
     "text": [
      "Test loss:  0.34808043465018274\n",
      "Test accuracy:  88.69911595394737\n",
      "Test EM:  22.998046875\n",
      "Test accuracy position-wise:  [94.482421875, 77.48046875, 73.916015625, 65.185546875, 65.9375, 69.716796875, 77.51953125, 84.267578125, 89.912109375, 93.837890625, 96.572265625, 98.115234375, 99.169921875, 99.501953125, 99.833984375, 99.912109375, 99.951171875, 99.970703125, 100.0]\n"
     ]
    },
    {
     "name": "stderr",
     "output_type": "stream",
     "text": [
      "\n"
     ]
    }
   ],
   "source": [
    "val_labels = []\n",
    "val_pred = []\n",
    "file = open(\"Wrong outputs Transliteration final.txt\",\"w\")\n",
    "file.write(\"\\n Source   :   Target     :   Predicted  \")\n",
    "val_epoch_loss = 0\n",
    "correct_val, B_val = 0, 0\n",
    "out_correct = [0 for i in range(19)]\n",
    "with torch.no_grad():\n",
    "    for xb, yb in tqdm(val_loader):\n",
    "        xb = xb.to(device)\n",
    "        yb = yb.to(device)\n",
    "        y_hat = model(xb)\n",
    "        loss = loss_function(y_hat, yb)\n",
    "\n",
    "        val_epoch_loss += float(loss)\n",
    "\n",
    "        y_hat = torch.softmax(y_hat, dim = 1).argmax(dim=1)\n",
    "\n",
    "        correct, B, output_correct = exactmatch_ouputmatch(y_hat, yb,xb,file)\n",
    "        correct_val += correct\n",
    "        B_val += B\n",
    "        for i in range(19):\n",
    "            out_correct[i] += output_correct[i]\n",
    "\n",
    "        val_labels.extend(yb.cpu().detach().numpy())\n",
    "        val_pred.extend(y_hat.cpu().detach().numpy())\n",
    "\n",
    "val_epoch_loss = val_epoch_loss / len(val_loader)\n",
    "print(\"Test loss: \", val_epoch_loss)\n",
    "print(\"Test accuracy: \", accuracy_score(val_labels, val_pred)*100)\n",
    "print(\"Test EM: \", (correct_val/ B_val)*100)\n",
    "for i in range(19):\n",
    "    out_correct[i] = (out_correct[i] / B_val) * 100\n",
    "print(\"Test accuracy position-wise: \", out_correct)\n",
    "# [ 38,  16, 283,   0]\n",
    "file.close()"
   ]
  },
  {
   "cell_type": "code",
   "execution_count": 44,
   "metadata": {},
   "outputs": [
    {
     "name": "stdout",
     "output_type": "stream",
     "text": [
      "Target : आगा  Predicted : आगा\n",
      "Target : गंधर्वसेन  Predicted : गंधारववेेे\n",
      "Target : भिक्षाटन  Predicted : भिक्षात\n",
      "Target : वोटों  Predicted : वोटों\n",
      "Target : वास्ते  Predicted : वासतेे\n",
      "Target : महापुरुषों  Predicted : महापुरुो\n",
      "Target : संदली  Predicted : संदाीी\n",
      "Target : रिहाई  Predicted : रहहई\n",
      "Target : प्याले  Predicted : प्याल\n",
      "Target : वक्ता  Predicted : वक्त\n",
      "Target : नारियां  Predicted : नारियां\n",
      "Target : चक  Predicted : चक\n",
      "Target : दत्तोपंत  Predicted : डा्टोांं\n",
      "Target : अल्टीमेट  Predicted : अल्टीमते\n",
      "Target : आश्चर्यचकित  Predicted : आश्च्््चककत\n",
      "Target : सहकर्मी  Predicted : सहकरममी\n",
      "Target : इलाका  Predicted : इलाका\n",
      "Target : चलतीं  Predicted : चलली\n",
      "Target : ढकता  Predicted : ढक्ा\n",
      "Target : फारूक  Predicted : फारकक\n",
      "Target : राष्ट्रगान  Predicted : राष्ट्गगण\n",
      "Target : तांबे  Predicted : टैंबे\n",
      "Target : बोधिवृक्ष  Predicted : बोधिव््ष\n",
      "Target : मध्ययुगीन  Predicted : मध्ययुगनन\n",
      "Target : वैधता  Predicted : वैधता\n",
      "Target : बालकडू  Predicted : बलाकाद\n",
      "Target : श्रद्धालु  Predicted : श्राााुु\n",
      "Target : लब्ध  Predicted : लबद्\n",
      "Target : बृहत  Predicted : ब्रहह\n",
      "Target : दिवसीय  Predicted : दिवससीय\n",
      "Target : गारी  Predicted : गारी\n",
      "Target : प्रियपात्र  Predicted : प्रययपत्र\n",
      "Target : अधिकार  Predicted : अधिका\n",
      "Target : डाक  Predicted : दाक\n",
      "Target : कासमी  Predicted : कसममी\n",
      "Target : सोफिया  Predicted : सोफिया\n",
      "Target : उत्कृष्टता  Predicted : उत्क्क्षता\n",
      "Target : राभा  Predicted : रभा\n",
      "Target : कौमुदी  Predicted : कौमुदी\n",
      "Target : बेगम  Predicted : बेगम\n",
      "Target : लायसेंस  Predicted : लाइेसस\n",
      "Target : नारकोटिक  Predicted : नारोकोकिक\n",
      "Target : विश्वासों  Predicted : विश्वासो\n",
      "Target : चौरंगी  Predicted : चोरंगी\n",
      "Target : खूंटी  Predicted : खुनती\n",
      "Target : परिवादी  Predicted : परिवादीी\n",
      "Target : डोनोवैन  Predicted : दोनोवन\n",
      "Target : हरिजनों  Predicted : हरिजनों\n",
      "Target : फोनों  Predicted : फानों\n",
      "Target : धब्बा  Predicted : धब्ब\n",
      "Target : जननायकों  Predicted : जननायकों\n",
      "Target : मंत्री  Predicted : मंत्री\n",
      "Target : क्वीन  Predicted : क्वन\n",
      "Target : मुझसे  Predicted : मुजास\n",
      "Target : हरफनमौला  Predicted : हर्ोोोलल\n",
      "Target : फॉलोअर  Predicted : फॉलोर\n",
      "Target : पंखुड़ियां  Predicted : पंखु़यियां\n",
      "Target : आप्टे  Predicted : अप्ते\n",
      "Target : लड़ी  Predicted : लड़ी\n",
      "Target : भड़काने  Predicted : भड़काेे\n",
      "Target : हिचकता  Predicted : हिककतत\n",
      "Target : परिणामों  Predicted : परिणामों\n",
      "Target : विली  Predicted : विली\n",
      "Target : स्केलिंग  Predicted : स्क्लिगंग\n",
      "Target : मैडिसन  Predicted : मैडिसन\n",
      "Target : अदाणी  Predicted : अदानी\n",
      "Target : सम्मोहित  Predicted : सम्हिित\n",
      "Target : विद्यालंकार  Predicted : विद्यांगकक\n",
      "Target : हु  Predicted : हु\n",
      "Target : गाया  Predicted : गाया\n",
      "Target : अहिंसा  Predicted : अहिंसा\n",
      "Target : मूणत  Predicted : मूनत\n",
      "Target : अरंडी  Predicted : अरेंदी\n",
      "Target : मोहिउद्दीन  Predicted : मोहिद्दादी\n",
      "Target : स्कंदगुप्त  Predicted : स्कंगगुु्\n",
      "Target : भोगविलास  Predicted : भोगविसलस\n",
      "Target : विमानों  Predicted : विमानंं\n",
      "Target : सागू  Predicted : सागु\n",
      "Target : फ्यूचरिस्टिक  Predicted : फुट्र्य्य्क्\n",
      "Target : कसाई  Predicted : कसाई\n",
      "Target : कैरिबियाई  Predicted : कैरीबायाई\n",
      "Target : खजुराहो  Predicted : खुजुहो\n",
      "Target : प्राइस  Predicted : प्रास\n",
      "Target : लेपर्ड  Predicted : लिपपप््\n",
      "Target : रॉ  Predicted : रो\n",
      "Target : बिकने  Predicted : बिकनन\n",
      "Target : रैपर्स  Predicted : रेप्््स\n",
      "Target : पागलखाने  Predicted : पगलखान\n",
      "Target : कम्युनिकेशंस  Predicted : कम्यननशेेशस\n",
      "Target : झपटा  Predicted : झपता\n",
      "Target : आकृति  Predicted : अकृति\n",
      "Target : बापट  Predicted : बापत\n",
      "Target : एनर्जी  Predicted : इनरजीी\n",
      "Target : गंवाना  Predicted : गंवाना\n",
      "Target : मिसाल  Predicted : मिसाल\n",
      "Target : प्रसंस्कृत  Predicted : प्रसंसककृतत\n",
      "Target : करतबों  Predicted : कर्ााों\n",
      "Target : व्यक्तिवादी  Predicted : व्यककतिवादीी\n",
      "Target : ब्याज  Predicted : ब्याज\n",
      "Target : रूपक  Predicted : रूपक\n",
      "Target : रखता  Predicted : रखता\n",
      "Target : कुशलक्षेम  Predicted : कुशलल््\n",
      "Target : उधार  Predicted : उढर\n",
      "Target : भगाने  Predicted : भगाने\n",
      "Target : आयर्स  Predicted : एयरस\n",
      "Target : रेफरल  Predicted : रेफरल\n",
      "Target : मानवशास्त्र  Predicted : माावशसस्त्रर\n",
      "Target : संश्लेषण  Predicted : संश्ेशन\n",
      "Target : रामाधीन  Predicted : रममधीन\n",
      "Target : सायनोजन  Predicted : सायोजन\n",
      "Target : जायफल  Predicted : जययफल\n",
      "Target : दुधारू  Predicted : दुधार\n",
      "Target : फॉर्म  Predicted : फोरमम\n",
      "Target : गैरकानूनी  Predicted : गैरकाननी\n",
      "Target : ट्रेंट  Predicted : ट्रा\n",
      "Target : गनपत  Predicted : गंपत\n",
      "Target : आवरण  Predicted : आवरण\n",
      "Target : चाय  Predicted : चैय\n",
      "Target : मूर्त्ति  Predicted : मूर्ती\n",
      "Target : गाएं  Predicted : गाएं\n",
      "Target : अधमरा  Predicted : अध्मा\n",
      "Target : सेलों  Predicted : सेलों\n",
      "Target : जुटी  Predicted : जुटी\n",
      "Target : परशुराम  Predicted : परशुुरम\n",
      "Target : मिले  Predicted : मिलल\n",
      "Target : स्केल  Predicted : स्काल\n",
      "Target : उम्मीदवारों  Predicted : उमिदववाों\n",
      "Target : उतराई  Predicted : उत्ााय\n",
      "Target : प्रतुल  Predicted : प्रतुल\n",
      "Target : उपनियम  Predicted : उपनियाम\n",
      "Target : आईएएनएस  Predicted : आइएएएस\n",
      "Target : कुलश्रेष्ठ  Predicted : कुल्शश्््\n",
      "Target : एस्टोनिया  Predicted : एस्टोनिया\n",
      "Target : रूक  Predicted : रुक\n",
      "Target : पौत्री  Predicted : पौत्री\n",
      "Target : अश्वनी  Predicted : अश्वननी\n",
      "Target : जिनीवा  Predicted : जेनेवा\n",
      "Target : बिताने  Predicted : बिताने\n",
      "Target : श्रीलंकाई  Predicted : शृरिलंक\n",
      "Target : प्रभावना  Predicted : प्रभावना\n",
      "Target : सरकारी  Predicted : सरकारी\n",
      "Target : बीसवें  Predicted : बिसवें\n",
      "Target : ईंधन  Predicted : इंधनन\n",
      "Target : स्पैम  Predicted : स्पम\n",
      "Target : अचूक  Predicted : अचूक\n",
      "Target : सिफ़ारिशें  Predicted : सिफारिशं\n",
      "Target : यादव  Predicted : यादव\n",
      "Target : पावरी  Predicted : पववी\n",
      "Target : समयबद्धता  Predicted : समाभदधधता\n",
      "Target : बोनापार्ट  Predicted : बोनाप्््\n",
      "Target : खेलना  Predicted : खेलना\n",
      "Target : जलधारा  Predicted : जलधारा\n",
      "Target : विभव  Predicted : विभाव\n",
      "Target : नीरज  Predicted : नीराज\n",
      "Target : माई  Predicted : मीए\n",
      "Target : आच्छादित  Predicted : आछ़दित\n",
      "Target : वैधता  Predicted : वैध्ा\n",
      "Target : एचडीएफसी  Predicted : एचडीएीसी\n",
      "Target : आकाश  Predicted : आकाश\n",
      "Target : समझदारी  Predicted : समादारी\n",
      "Target : भाईजान  Predicted : भैजन\n",
      "Target : दशहरा  Predicted : दशररा\n",
      "Target : माडिया  Predicted : मादिया\n",
      "Target : तात्या  Predicted : तात्य\n",
      "Target : पिक  Predicted : पीक\n",
      "Target : क्लीनर  Predicted : क्लेनर\n",
      "Target : वस  Predicted : वास\n",
      "Target : चौथे  Predicted : चौठे\n",
      "Target : मेहरबानी  Predicted : मेहरबानी\n",
      "Target : बोलना  Predicted : बोलना\n",
      "Target : समयबद्धता  Predicted : समाभदधधा\n",
      "Target : प्रचालन  Predicted : प्रचललन\n",
      "Target : यूनान  Predicted : यूना\n",
      "Target : डॉमिनिक  Predicted : डोमिनिक\n",
      "Target : कामेश्वर  Predicted : कमेशशवर\n",
      "Target : मावे  Predicted : माव\n",
      "Target : आहवान  Predicted : आहववन\n",
      "Target : बाती  Predicted : बतती\n",
      "Target : कारों  Predicted : कैरों\n",
      "Target : कॉमन  Predicted : कम्मं\n",
      "Target : भुलाने  Predicted : भुलने\n",
      "Target : बाल्य  Predicted : बलल\n",
      "Target : परिपेक्ष्य  Predicted : परिपेक्््\n",
      "Target : विल्हेम  Predicted : विल्म\n",
      "Target : वराह  Predicted : वराह\n",
      "Target : श्रीनगर  Predicted : श्रीणगर\n",
      "Target : लचीलेपन  Predicted : लकिलिपन\n",
      "Target : दुर्भाग्य  Predicted : दुर्भगगञ\n",
      "Target : शोध  Predicted : शोध\n",
      "Target : वैतरणी  Predicted : वैताणी\n",
      "Target : मकबरों  Predicted : मककररो\n",
      "Target : गोल्डी  Predicted : गोल्ीी\n",
      "Target : बालवीर  Predicted : बालवीर\n",
      "Target : निकलने  Predicted : निकलनेे\n",
      "Target : पायदानों  Predicted : पययदनों\n",
      "Target : ख़ास  Predicted : खास\n",
      "Target : हजारीप्रसाद  Predicted : हजजरिप््सद\n",
      "Target : लामबंदी  Predicted : लामबंदीी\n",
      "Target : भरपाई  Predicted : भरपा\n",
      "Target : कहलाता  Predicted : कहलाा\n",
      "Target : शासनकाल  Predicted : शासंकल\n",
      "Target : लेनेवाली  Predicted : लेनेवाली\n",
      "Target : एेसा  Predicted : ईसा\n",
      "Target : धुएं  Predicted : धुएं\n",
      "Target : उभरती  Predicted : उभरती\n",
      "Target : अर्ह  Predicted : अरहा\n",
      "Target : समरूप  Predicted : समरू\n",
      "Target : हितेश  Predicted : हितेश\n",
      "Target : न्यायमूर्ति  Predicted : न्याया्री\n",
      "Target : संस्थाएं  Predicted : संस्थाएं\n",
      "Target : पीढ़ी  Predicted : पीड़ी\n",
      "Target : सत्र  Predicted : सततर\n",
      "Target : नस्लीय  Predicted : नसलीीय\n",
      "Target : कैसेट  Predicted : सैससटटे\n",
      "Target : नम्रता  Predicted : नमराता\n",
      "Target : इनसे  Predicted : इनसे\n",
      "Target : डॉनी  Predicted : डॉनी\n",
      "Target : पंचमी  Predicted : पुचामी\n",
      "Target : करबला  Predicted : करबााा\n",
      "Target : महासिंह  Predicted : महासिंं\n",
      "Target : मीड  Predicted : मीड\n",
      "Target : चित्रकारों  Predicted : चित्रकारों\n",
      "Target : सुस्त  Predicted : सुस्त\n",
      "Target : संस्थान  Predicted : संस्था\n",
      "Target : आध्यात्मिक  Predicted : आध्या््मकक\n",
      "Target : रास्ता  Predicted : रसस्ा\n",
      "Target : असमानताएं  Predicted : असममततांं\n",
      "Target : पाठशाला  Predicted : पठशशला\n",
      "Target : हिंडन  Predicted : हिंडों\n",
      "Target : टुकड़े  Predicted : टुकरे\n",
      "Target : होमर  Predicted : हममर\n",
      "Target : परहेज  Predicted : पराेज\n",
      "Target : अवलोकन  Predicted : अवलोकन\n",
      "Target : सर्वश्रेष्ठता  Predicted : सर्ववश्््््तत\n",
      "Target : पेय  Predicted : पेया\n",
      "Target : उत्तरांचल  Predicted : उत्त्रांचल\n",
      "Target : ज़िक्र  Predicted : जिकरा\n",
      "Target : दयावान  Predicted : दययवन\n",
      "Target : सतह  Predicted : सतेह\n",
      "Target : मिन्ह  Predicted : मिश्ह\n",
      "Target : ले  Predicted : ले\n",
      "Target : कैरोल  Predicted : कैरल\n",
      "Target : नान  Predicted : नान\n",
      "Target : शम्मी  Predicted : शमममी\n",
      "Target : माएँ  Predicted : माएं\n",
      "Target : राष्ट्रिय  Predicted : राष्त्रीय\n",
      "Target : अचंभा  Predicted : अचंभा\n",
      "Target : एडी  Predicted : एडीी\n",
      "Target : पुर्तगाल  Predicted : पोर्ोगगल\n",
      "Target : आर्म  Predicted : अरम\n",
      "Target : इख्तियार  Predicted : इखातिया\n",
      "Target : विकासात्मक  Predicted : विकासातममक\n",
      "Target : हालांकि  Predicted : हालाकी\n",
      "Target : नवोदय  Predicted : नवोदय\n",
      "Target : फिल्मकार  Predicted : फिलममक\n",
      "Target : शुरू  Predicted : शुरू\n",
      "Target : बौना  Predicted : बौना\n",
      "Target : वर्ल्डवाइड  Predicted : वॉर्््डइइइड\n",
      "Target : जुराबें  Predicted : जुरबेे\n",
      "Target : पौढ़ी  Predicted : पौधी\n",
      "Target : चलनेवाले  Predicted : चललेवाले\n",
      "Target : जग्गी  Predicted : जगगी\n",
      "Target : स्क्वैश  Predicted : स्कुया\n",
      "Target : मोहतरमा  Predicted : मोहत््मा\n",
      "Target : रैंकिंग  Predicted : राकिंंग\n",
      "Target : चावला  Predicted : चाला\n",
      "Target : आरोहण  Predicted : अरोहा\n",
      "Target : पत्र  Predicted : पतरर\n",
      "Target : टैंकर  Predicted : टैंकर\n",
      "Target : आधारशिला  Predicted : आधारशलल\n",
      "Target : अग्रसर  Predicted : अग्रारर\n",
      "Target : उभार  Predicted : उभरर\n",
      "Target : कलर  Predicted : कॉलर\n",
      "Target : मस्ती  Predicted : मसस्ीी\n",
      "Target : अंडरवर्ल्ड  Predicted : अंडेयर््ड\n",
      "Target : बॉब  Predicted : बोब\n",
      "Target : फ्लिक  Predicted : फ्लाक\n",
      "Target : काटे  Predicted : काे\n",
      "Target : मिसाइल्स  Predicted : मिसिि्स\n",
      "Target : बेमानी  Predicted : बेमानी\n",
      "Target : डालने  Predicted : दललने\n",
      "Target : फैले  Predicted : फैइले\n",
      "Target : सुपाच्य  Predicted : सुपाच्य\n",
      "Target : मॉस्को  Predicted : मास्को\n",
      "Target : बाटा  Predicted : बाा\n",
      "Target : नबीनगर  Predicted : नबीनगर\n",
      "Target : विक्टोरियन  Predicted : विक्टोरिया\n",
      "Target : जनगणना  Predicted : जनगगनन\n",
      "Target : उठायें  Predicted : उठाएं\n",
      "Target : लेखक  Predicted : लेक\n",
      "Target : हेरॉल्ड  Predicted : हेरलल्\n",
      "Target : फिशर्स  Predicted : फिय््स\n",
      "Target : टुकड़े  Predicted : टुकड़े\n",
      "Target : रख  Predicted : रह\n",
      "Target : आत्मकथाएं  Predicted : आत्मखाएं\n",
      "Target : अश्वगंधा  Predicted : अश्वांंध\n",
      "Target : देवघर  Predicted : देवघा\n",
      "Target : मान्धाता  Predicted : माधधता\n",
      "Target : गागर  Predicted : गागर\n",
      "Target : इंटरफेस  Predicted : इंटररफेे\n",
      "Target : जटा  Predicted : जाता\n",
      "Target : बैचलर  Predicted : बैललर\n",
      "Target : कर्नाटका  Predicted : कर्ाााक\n",
      "Target : फेमा  Predicted : फेमा\n",
      "Target : उद्यानों  Predicted : उद्यानों\n",
      "Target : चिमनी  Predicted : चिमनी\n",
      "Target : एस्थर  Predicted : एस्थ\n",
      "Target : कामकाजी  Predicted : कामकजी\n",
      "Target : गो  Predicted : गो\n",
      "Target : वृहत  Predicted : वृहत\n",
      "Target : सीसीआई  Predicted : सीसी\n",
      "Target : कार्यकर्मों  Predicted : कार्यकररों\n",
      "Target : नमूने  Predicted : नमूनन\n",
      "Target : आशिक  Predicted : आशिक\n",
      "Target : नियमावली  Predicted : नियामााली\n",
      "Target : पोजीशन  Predicted : पोसिशनन\n",
      "Target : अनुभवों  Predicted : अनुभावं\n",
      "Target : पाश्र्व  Predicted : पश्व\n",
      "Target : मिलकर  Predicted : मिलकक\n",
      "Target : पिक  Predicted : पीक\n",
      "Target : गोलचक्कर  Predicted : गोलाककर\n",
      "Target : उपले  Predicted : उपलल\n",
      "Target : राव  Predicted : रवव\n",
      "Target : मणियां  Predicted : मािियन\n",
      "Target : चींटियों  Predicted : चितियों\n",
      "Target : पुष्टि  Predicted : पुष्ती\n",
      "Target : दखलंदाजी  Predicted : दखााााजीी\n",
      "Target : एप्रोच  Predicted : एपरोो\n",
      "Target : नथु  Predicted : नाथ\n",
      "Target : ग्रेट  Predicted : ग्रीट\n",
      "Target : लाज़मी  Predicted : लजजमी\n",
      "Target : तूने  Predicted : ट्ये\n",
      "Target : रोमछिद्रों  Predicted : रामदिदरोो\n",
      "Target : संवेदनाएं  Predicted : संवेदनाएं\n",
      "Target : आशावादी  Predicted : आशावादी\n",
      "Target : पिकु  Predicted : पिकू\n",
      "Target : इआन  Predicted : इइन\n",
      "Target : कार्टर  Predicted : कैर्टर\n",
      "Target : ताबूत  Predicted : ताबुत\n",
      "Target : पॉपकॉर्न  Predicted : पॉपक्रो\n",
      "Target : पावन  Predicted : पावन\n",
      "Target : कोच्चि  Predicted : कोची\n",
      "Target : निकास  Predicted : निकास\n",
      "Target : गुर्दे  Predicted : गुऱ्\n",
      "Target : गत  Predicted : गटत\n",
      "Target : मुकाबलों  Predicted : मुकालोो\n",
      "Target : नामों  Predicted : नमों\n",
      "Target : इत्तेफाक  Predicted : इत्तेफक\n",
      "Target : स्कूली  Predicted : स्कूली\n",
      "Target : सुघड़ता  Predicted : सुग़ता\n",
      "Target : नीदरलैंड्स  Predicted : निथेलल्सस\n",
      "Target : अच्छी  Predicted : अच्ची\n",
      "Target : सिफ़ारिश  Predicted : सिफारिश\n",
      "Target : एयरोस्पेस  Predicted : एरोसससे\n",
      "Target : इष्टतम  Predicted : इश्तमम\n",
      "Target : संकेंद्रित  Predicted : संकेदद्तत\n",
      "Target : शल्यचिकित्सा  Predicted : शलयययकिस्त\n",
      "Target : उत्तुंग  Predicted : उटटटं\n",
      "Target : ढाई  Predicted : धा\n",
      "Target : साफ  Predicted : साफ\n",
      "Target : सिया  Predicted : सिया\n",
      "Target : संभालने  Predicted : संभानेे\n",
      "Target : रेवंत  Predicted : रेवात\n",
      "Target : पुर्वांचल  Predicted : पूर्वाचल\n",
      "Target : व्यस्तता  Predicted : व्या््ता\n",
      "Target : रायचूर  Predicted : रायचुर\n",
      "Target : छुए  Predicted : छुए\n",
      "Target : दयनीय  Predicted : दयनीय\n",
      "Target : हिंगोट  Predicted : हिंगोट\n",
      "Target : नाश  Predicted : ना\n",
      "Target : शीर्ष  Predicted : शिर्श\n",
      "Target : पुरातत्व  Predicted : पुरातत््व\n",
      "Target : क्रिकेटरों  Predicted : क्रिकटटों\n",
      "Target : परिमाण  Predicted : परिमान\n",
      "Target : उर्फ  Predicted : उर्फ\n",
      "Target : मादाएं  Predicted : मदाां\n",
      "Target : सिंहला  Predicted : सिंघाा\n",
      "Target : तोतों  Predicted : टोटों\n",
      "Target : वेबर  Predicted : वेबर\n",
      "Target : जुमा  Predicted : जुमा\n",
      "Target : जुनून  Predicted : जुनूण\n",
      "Target : नेटवेस्ट  Predicted : नेट्वसस््\n",
      "Target : लॉयड  Predicted : ल्लोय\n",
      "Target : बटुकेश्वर  Predicted : बतकक्केव्र\n",
      "Target : स्कॉट  Predicted : स्कोट\n",
      "Target : सांडों  Predicted : सांडों\n",
      "Target : इनकार  Predicted : इंकार\n",
      "Target : नौकाओं  Predicted : नौकाओ\n",
      "Target : विवरण  Predicted : विवरण\n",
      "Target : नापा  Predicted : नाप\n",
      "Target : सिकनेस  Predicted : सिक्ेस\n",
      "Target : गलतफहमियों  Predicted : गललमममिययं\n",
      "Target : मौजूदगी  Predicted : मौजददीी\n",
      "Target : पिंजरे  Predicted : पिं्रे\n",
      "Target : प्रिय  Predicted : प्रिया\n",
      "Target : जूम  Predicted : जूम\n",
      "Target : लामा  Predicted : लाा\n",
      "Target : लपेटा  Predicted : ल्पेता\n",
      "Target : सामंतवाद  Predicted : समातववदद\n",
      "Target : वह  Predicted : वोह\n",
      "Target : रजस्वला  Predicted : राजसवाला\n",
      "Target : चुगताई  Predicted : चुगताई\n",
      "Target : उठी  Predicted : उठी\n",
      "Target : उपयुक्त  Predicted : उपयुक्त\n",
      "Target : अटक  Predicted : अटक\n",
      "Target : व्यूह  Predicted : व्भुह\n",
      "Target : जगना  Predicted : जग्न\n",
      "Target : नगेट्स  Predicted : नजजट््स\n",
      "Target : इश्किया  Predicted : इश्किया\n",
      "Target : कोमोडोर  Predicted : कोोोडर\n",
      "Target : ईस्टर्न  Predicted : ईस्ट्र\n",
      "Target : दानव  Predicted : दानव\n",
      "Target : वालेरी  Predicted : वलेरी\n",
      "Target : जलाकर  Predicted : जलार\n",
      "Target : उर्वरक  Predicted : उर्वाक\n",
      "Target : लक्ष्मीपुर  Predicted : लक्षमीीुु\n",
      "Target : अधिकांशतः  Predicted : अधिकाशततत\n",
      "Target : जंभेश्वर  Predicted : जमाेेववर\n",
      "Target : वोल्टा  Predicted : वोलता\n",
      "Target : घटनाचक्र  Predicted : घटनाचकरर\n",
      "Target : सनकी  Predicted : सुंकी\n",
      "Target : स्वरूपों  Predicted : स्वरूपो\n",
      "Target : धारियां  Predicted : धारिया\n",
      "Target : उनमें  Predicted : उन्मान\n",
      "Target : बगलामुखी  Predicted : बगलममुु\n",
      "Target : ब्याह  Predicted : ब्याह\n",
      "Target : बाहरी  Predicted : बाहरी\n",
      "Target : व्याधि  Predicted : व्याधी\n",
      "Target : तीर्थस्थल  Predicted : तीर्थथथथल\n",
      "Target : फ़्रीडम  Predicted : फ्रेडम\n",
      "Target : दीमापुर  Predicted : दिमापुर\n",
      "Target : दौर  Predicted : दौर\n",
      "Target : ऐब  Predicted : एबे\n",
      "Target : ट्रेनें  Predicted : ट्रेने\n",
      "Target : तोरे  Predicted : टोर\n",
      "Target : जैफ  Predicted : जेफ\n",
      "Target : चंगुल  Predicted : चागगलल\n",
      "Target : पकड़  Predicted : पकद़\n",
      "Target : निखरा  Predicted : निखाा\n",
      "Target : निगलते  Predicted : निगलीी\n",
      "Target : रचनात्मकता  Predicted : रचनातततकत\n",
      "Target : सिद्धवट  Predicted : सिद्धवत\n",
      "Target : फोन  Predicted : फोने\n",
      "Target : गुजरांवाला  Predicted : गुजराववाा\n",
      "Target : दुधवा  Predicted : दुधावा\n",
      "Target : धूप  Predicted : धूप\n",
      "Target : खोपड़ियों  Predicted : खोपड़ियंं\n",
      "Target : गद्य  Predicted : गा््य\n",
      "Target : रिस्क  Predicted : रिस्क\n",
      "Target : मौसेरे  Predicted : मौसेे\n",
      "Target : नेड  Predicted : नाे\n",
      "Target : अम्ल  Predicted : एएमए\n",
      "Target : अलायंस  Predicted : एलिइंस\n",
      "Target : पहुंचा  Predicted : पहुंचा\n",
      "Target : आलिया  Predicted : आलिया\n",
      "Target : सस्टेनेबिलिटी  Predicted : सुस्ततिाााििय\n",
      "Target : खामोश  Predicted : खमोश\n",
      "Target : पैगंबर  Predicted : पैंबबर\n",
      "Target : पूर्ण  Predicted : पूर्णा\n",
      "Target : वृत्ताकार  Predicted : वृत्तककक\n",
      "Target : खण्ड  Predicted : खंडा\n",
      "Target : क्रांतिकारी  Predicted : क्रांतकककीरी\n",
      "Target : ज़िद्दी  Predicted : जिद्दी\n",
      "Target : आने  Predicted : आने\n",
      "Target : निर्दयतापूर्वक  Predicted : निर्द्ताूूर्वव\n",
      "Target : सिडको  Predicted : सिडकको\n",
      "Target : वारहेड  Predicted : वारहद\n",
      "Target : ओटीए  Predicted : ओटिया\n",
      "Target : रॉबिंसन  Predicted : रॉबिसस\n",
      "Target : परिचारिका  Predicted : परिचारकाा\n",
      "Target : टाय  Predicted : टोय\n",
      "Target : तैनात  Predicted : टैनत\n",
      "Target : मनभावन  Predicted : मनभवान\n",
      "Target : कुक्ड  Predicted : कुकड़\n",
      "Target : कड़वापन  Predicted : कदााापन\n",
      "Target : तारापीठ  Predicted : तरापिथ\n",
      "Target : अनुमत  Predicted : अनुमत\n",
      "Target : दुर्दशा  Predicted : दुरदाश\n",
      "Target : दरी  Predicted : दाी\n",
      "Target : शीतोष्ण  Predicted : शितोषा\n",
      "Target : नीचे  Predicted : निचे\n",
      "Target : बहनों  Predicted : बहनों\n",
      "Target : कहते  Predicted : कहते\n",
      "Target : डेटोनेटर  Predicted : डेटेनोर\n",
      "Target : पुरुस्कार  Predicted : पुरु्कक\n",
      "Target : फाइलों  Predicted : फिलों\n",
      "Target : केरकेट्टा  Predicted : केरककततत\n",
      "Target : पेपरवेट  Predicted : पेारवें\n",
      "Target : अगाध  Predicted : अग़़\n",
      "Target : बैठाने  Predicted : बैठने\n",
      "Target : अर्जेंट  Predicted : अर्जेंट\n",
      "Target : आंदोलित  Predicted : अंडोलित\n",
      "Target : प्रभारी  Predicted : प्रभारी\n",
      "Target : बांस  Predicted : बांस\n",
      "Target : जात  Predicted : जात\n",
      "Target : प्रिंसेस  Predicted : प्रिंससस\n",
      "Target : पांचों  Predicted : पांचों\n",
      "Target : आधीन  Predicted : आधीन\n",
      "Target : कहती  Predicted : कहती\n",
      "Target : भीमराव  Predicted : भीमरावव\n",
      "Target : पोलैंड  Predicted : पोलांड\n",
      "Target : नैय्यर  Predicted : नैययय\n",
      "Target : आकृतियां  Predicted : अकृतियां\n",
      "Target : ठाना  Predicted : थाना\n",
      "Target : गृहस्थ  Predicted : गृहा््थ\n",
      "Target : कार्याधिकारी  Predicted : कार्याधाकीरी\n",
      "Target : आरटीआई  Predicted : आतटी\n",
      "Target : आबादियों  Predicted : आबादियों\n",
      "Target : रेसर  Predicted : रिकर\n",
      "Target : विशेषण  Predicted : विशेष\n",
      "Target : भिंडरावाले  Predicted : भिंद्रालेे\n",
      "Target : जसकरण  Predicted : जस्रणण\n",
      "Target : माननेवाले  Predicted : मनन्ववाले\n",
      "Target : आइवरी  Predicted : इवरे\n",
      "Target : स्क्रीन  Predicted : स्क्रीीन\n",
      "Target : धर्मगुरु  Predicted : धर्मगुुु\n",
      "Target : बख्तियार  Predicted : बख्तियार\n",
      "Target : बाल्टी  Predicted : बैलीी\n",
      "Target : खरपतवार  Predicted : खरपतावर\n",
      "Target : क्लेन  Predicted : क्लान\n",
      "Target : विभक्त  Predicted : विभाकत\n",
      "Target : पतंजलि  Predicted : पंत्जाली\n",
      "Target : छोड़ने  Predicted : छोड़ने\n",
      "Target : कायदा  Predicted : काददा\n",
      "Target : सहकर्मी  Predicted : सहकरममम\n",
      "Target : जिसने  Predicted : जिसने\n",
      "Target : पुकारते  Predicted : पुकातते\n",
      "Target : परोसे  Predicted : परोसे\n",
      "Target : पलता  Predicted : पल्ा\n",
      "Target : मैरिएन  Predicted : मािें\n",
      "Target : संचलन  Predicted : संचलन\n",
      "Target : सम्माननीय  Predicted : सम्मननीय\n",
      "Target : जीवंतता  Predicted : जीवनतता\n",
      "Target : जयपाल  Predicted : जैपा\n",
      "Target : प्राप्तांक  Predicted : प्रात्ां\n",
      "Target : अरदास  Predicted : अर्ाास\n",
      "Target : अटकलें  Predicted : अटकलले\n",
      "Target : उत्तराधिकार  Predicted : उत्त्ााधिकर\n",
      "Target : सौंदर्य  Predicted : सौंदररय\n",
      "Target : निर्वाचन  Predicted : निर्वाचन\n",
      "Target : बोया  Predicted : बोया\n",
      "Target : मार्वल  Predicted : माववाल\n",
      "Target : कब्रगाह  Predicted : कब््गा\n",
      "Target : स्वराज  Predicted : स्वााज\n",
      "Target : अचला  Predicted : अचाा\n",
      "Target : फना  Predicted : फननना\n",
      "Target : साहेब  Predicted : सहेब\n",
      "Target : छुए  Predicted : छुये\n",
      "Target : सिद्धि  Predicted : सिधीी\n",
      "Target : बटलर  Predicted : बटटर\n",
      "Target : घंटी  Predicted : घंंती\n",
      "Target : तीतर  Predicted : टीता\n",
      "Target : अधिकारिता  Predicted : अधिकारित\n",
      "Target : डंकन  Predicted : डुनसन\n",
      "Target : उतरते  Predicted : उत्ताररत\n",
      "Target : तोमरों  Predicted : तोमरों\n",
      "Target : त्रैमासिक  Predicted : ट्रेमासिक\n",
      "Target : मामला  Predicted : ममाा\n",
      "Target : मोहम्मद  Predicted : मोहबबात\n",
      "Target : नामधारी  Predicted : नमधधाी\n",
      "Target : अग्रोहा  Predicted : अग्रोहा\n",
      "Target : कार्मिकों  Predicted : का्मिको\n",
      "Target : युनुस  Predicted : यून्स\n",
      "Target : खरपतवार  Predicted : खरपातरर\n",
      "Target : निकालकर  Predicted : निकलकर\n",
      "Target : फिश  Predicted : फिश\n",
      "Target : रमाबाई  Predicted : रमााईई\n",
      "Target : शौच  Predicted : शौच\n",
      "Target : वेट्रेस  Predicted : वेट्रा\n",
      "Target : इकॉनोमिक्स  Predicted : इकोनोमिक्स\n",
      "Target : लवासा  Predicted : लवासा\n",
      "Target : बाजपेयी  Predicted : बजपाई\n",
      "Target : धार्मिक  Predicted : धारमिक\n",
      "Target : अहाते  Predicted : अहते\n",
      "Target : ग्रंथियां  Predicted : ग्रातियां\n",
      "Target : सुरक्षात्मक  Predicted : सुराकततत््क\n",
      "Target : खींचते  Predicted : खिचते\n",
      "Target : मदरसा  Predicted : मदराा\n",
      "Target : उतारने  Predicted : उतरनन\n",
      "Target : कितने  Predicted : किटने\n",
      "Target : त्रिज्या  Predicted : त्रिज्\n",
      "Target : पराग  Predicted : पराग\n",
      "Target : ह्वेनसांग  Predicted : हेवांसंं\n",
      "Target : समझती  Predicted : समझती\n",
      "Target : भागवती  Predicted : भगवतती\n",
      "Target : रोध  Predicted : रोध\n",
      "Target : ईच  Predicted : इंच\n",
      "Target : नीडल  Predicted : नीडल\n",
      "Target : पाणिनि  Predicted : पानिनी\n",
      "Target : पुछने  Predicted : पूछने\n",
      "Target : मेडेलिन  Predicted : मेदलनिन\n",
      "Target : सांस्कृतिक  Predicted : संस्कृकित\n",
      "Target : लाईसेंस  Predicted : लाइेसस\n",
      "Target : बंदरों  Predicted : बंदरों\n",
      "Target : लोबो  Predicted : लोबो\n",
      "Target : सातारा  Predicted : सतरा\n",
      "Target : वास्तुशास्त्र  Predicted : वास्तुसस्त््\n",
      "Target : संगठनों  Predicted : संगठोों\n",
      "Target : बर्खास्त  Predicted : बर्ास््\n",
      "Target : निकालते  Predicted : निकललत\n",
      "Target : थ्री  Predicted : थ्री\n",
      "Target : गुरुद्वारे  Predicted : गुरुद्वे\n",
      "Target : धुरिया  Predicted : धुरिया\n",
      "Target : एलेन  Predicted : एलेन\n",
      "Target : योग्यताओं  Predicted : योग्यतओं\n",
      "Target : संग्राम  Predicted : संग्रम\n",
      "Target : स्वेच्छाचार  Predicted : स्वेच्छचरर\n",
      "Target : सवाई  Predicted : सवाई\n",
      "Target : चेल्सिया  Predicted : चेल्सिया\n",
      "Target : पढ़ो  Predicted : पढो\n",
      "Target : भाग्यशाली  Predicted : भाग्यााली\n",
      "Target : लाखा  Predicted : लाखा\n",
      "Target : मॉली  Predicted : मॉली\n",
      "Target : लिबास  Predicted : लिबाा\n",
      "Target : शिखर  Predicted : शिखर\n",
      "Target : गोखरू  Predicted : गोखरू\n",
      "Target : फील्डर  Predicted : फिलडडर\n",
      "Target : अखंडानंद  Predicted : अखानदददद\n",
      "Target : संकटमुक्त  Predicted : संकततुक्त\n",
      "Target : दिवाकर  Predicted : दिवाका\n",
      "Target : मूषक  Predicted : मुशक\n",
      "Target : जीना  Predicted : जीना\n",
      "Target : फ्लू  Predicted : फ्लू\n",
      "Target : राजमार्गों  Predicted : राजमरर्ों\n",
      "Target : छेड़छाड़  Predicted : छेदचचा़\n",
      "Target : जाखड़  Predicted : जखरर\n",
      "Target : दलेल  Predicted : डललल\n",
      "Target : मिलने  Predicted : मिलाने\n",
      "Target : उल्लास  Predicted : उलललास\n",
      "Target : फेलोशिप  Predicted : फेलोपिश्स\n",
      "Target : डीटीसी  Predicted : डीटीसी\n",
      "Target : वेंकट  Predicted : वेंकत\n",
      "Target : सबमरीन  Predicted : सब्ररन\n",
      "Target : जोड़कर  Predicted : जोडाकर\n",
      "Target : जाहिरा  Predicted : जहहरा\n",
      "Target : रचित  Predicted : रचित\n",
      "Target : संचालकों  Predicted : संचललको\n",
      "Target : सौभाग्य  Predicted : सौभाजय\n",
      "Target : पांडु  Predicted : पंदु\n",
      "Target : विश्लेषकों  Predicted : विश्लेककं\n",
      "Target : संगीतबद्ध  Predicted : संगगगदद्ध\n",
      "Target : अलफ्रेड  Predicted : अल्फ््रड\n",
      "Target : कृष  Predicted : कृषि\n",
      "Target : बातें  Predicted : बातें\n",
      "Target : अपार  Predicted : अपार\n",
      "Target : छायाचित्र  Predicted : छायायतततर\n",
      "Target : विस्तारवादी  Predicted : विस्तारववददी\n",
      "Target : सिवाय  Predicted : सिवाय\n",
      "Target : अमरकांत  Predicted : अमाकां\n",
      "Target : रूपनारायण  Predicted : रुपनाराय\n",
      "Target : रामाश्रय  Predicted : रममश््र\n",
      "Target : उपहास  Predicted : उपहास\n",
      "Target : धर्मावलंबी  Predicted : धर्माााााीी\n",
      "Target : अश्वमेध  Predicted : अश्वेह\n",
      "Target : खेहर  Predicted : खेहर\n",
      "Target : किचन  Predicted : कितचेन\n",
      "Target : मेनली  Predicted : मैनलली\n",
      "Target : जिब्राल्टर  Predicted : गिबर्रररर\n",
      "Target : पनपना  Predicted : पनपपना\n",
      "Target : भट्ठा  Predicted : भत्ाा\n",
      "Target : पक्के  Predicted : पक्के\n",
      "Target : उतारें  Predicted : उताें\n",
      "Target : विषाक्तता  Predicted : विशककतत\n",
      "Target : शहरी  Predicted : शहरी\n",
      "Target : विल्स  Predicted : विल्स\n",
      "Target : हेनोवर  Predicted : हेनोवा\n",
      "Target : मिहिरभोज  Predicted : मिहिरोोो\n",
      "Target : प्रकाशन  Predicted : प्रकाषण\n",
      "Target : परवान  Predicted : परवान\n",
      "Target : सरदारी  Predicted : सरदारी\n",
      "Target : मैनिपुलेटर  Predicted : मैिपपल्रर\n",
      "Target : नजदीक  Predicted : नजद़ीक\n",
      "Target : इलेक्ट्रिक  Predicted : इलेक्त्र्ककक\n",
      "Target : मूला  Predicted : मुला\n",
      "Target : घटाता  Predicted : घटाता\n",
      "Target : फर  Predicted : फा\n",
      "Target : पार्लियामेंट्री  Predicted : पर्लिििमेेर\n",
      "Target : कुलजीत  Predicted : कुल्ित\n",
      "Target : टीमों  Predicted : टीमों\n",
      "Target : प्रमाणपत्र  Predicted : प्रमापत्र\n",
      "Target : फोर्टीफाइड  Predicted : फार्टिफिइववव\n",
      "Target : उपदेशकों  Predicted : उपदेशकों\n",
      "Target : गुदना  Predicted : गुड़ना\n",
      "Target : महसूस  Predicted : महसूस\n",
      "Target : वापसी  Predicted : वापसी\n",
      "Target : रोजगार  Predicted : रोज़ा\n",
      "Target : व्यास  Predicted : व्यास\n",
      "Target : दक्कनी  Predicted : दक्कनी\n",
      "Target : नोकरी  Predicted : नौकरी\n",
      "Target : देगा  Predicted : देगा\n",
      "Target : भाषाई  Predicted : भाशा\n",
      "Target : नियाज़ोव  Predicted : नियाजोो\n",
      "Target : पहुंचेगी  Predicted : पहहंचेगी\n",
      "Target : संवारते  Predicted : संवातते\n",
      "Target : ब्रेल  Predicted : ब्रेलल\n",
      "Target : चेचेन्या  Predicted : चेचेननय\n",
      "Target : ड्रीम  Predicted : ड्रेम\n",
      "Target : तपाक  Predicted : तपाक\n",
      "Target : नट्टू  Predicted : नतूत\n",
      "Target : हिस्सेदारी  Predicted : हिस्दददारी\n",
      "Target : बंधुत्व  Predicted : बाधुत्व\n",
      "Target : छक्के  Predicted : छककेे\n",
      "Target : आतें  Predicted : आतेन\n",
      "Target : इन्हेलर  Predicted : इंहललर\n"
     ]
    }
   ],
   "source": [
    "val_labels = []\n",
    "val_pred = []\n",
    "file = open(\"Transilteration final.txt\",\"w\")\n",
    "file.write(\"\\n Source   :   Target     :   Predicted  \")\n",
    "val_epoch_loss = 0\n",
    "correct_val, B_val = 0, 0\n",
    "out_correct = [0 for i in range(10)]\n",
    "i =0\n",
    "with torch.no_grad():\n",
    "    for xb, yb in (val_loader):\n",
    "        xb = xb.to(device)\n",
    "        yb = yb.to(device)\n",
    "        y_hat = model(xb)\n",
    "        loss = loss_function(y_hat, yb)\n",
    "\n",
    "        val_epoch_loss += float(loss)\n",
    "\n",
    "        y_hat = torch.softmax(y_hat, dim = 1).argmax(dim=1)\n",
    "\n",
    "        ShowOutput(y_hat, yb,xb,file)\n",
    "        if(i==10):\n",
    "            break\n",
    "        i=i+1\n"
   ]
  }
 ],
 "metadata": {
  "kernelspec": {
   "display_name": "base",
   "language": "python",
   "name": "python3"
  },
  "language_info": {
   "codemirror_mode": {
    "name": "ipython",
    "version": 3
   },
   "file_extension": ".py",
   "mimetype": "text/x-python",
   "name": "python",
   "nbconvert_exporter": "python",
   "pygments_lexer": "ipython3",
   "version": "3.9.13"
  },
  "orig_nbformat": 4
 },
 "nbformat": 4,
 "nbformat_minor": 2
}
